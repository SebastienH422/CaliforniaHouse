{
 "cells": [
  {
   "cell_type": "code",
   "execution_count": 252,
   "id": "c64c3608",
   "metadata": {},
   "outputs": [
    {
     "name": "stdout",
     "output_type": "stream",
     "text": [
      "count    35.000000\n",
      "mean     21.771429\n",
      "std      11.576055\n",
      "min       0.000000\n",
      "25%      12.500000\n",
      "50%      22.000000\n",
      "75%      32.500000\n",
      "max      39.000000\n",
      "dtype: float64\n",
      "\n",
      " Moyenne:  12.0 \n",
      " Moyenne initiale:  10.657142857142857\n"
     ]
    },
    {
     "data": {
      "text/plain": [
       "[<matplotlib.lines.Line2D at 0x135586b20>]"
      ]
     },
     "execution_count": 252,
     "metadata": {},
     "output_type": "execute_result"
    },
    {
     "data": {
      "image/png": "[encoded data removed]",
      "text/plain": [
       "<Figure size 432x288 with 1 Axes>"
      ]
     },
     "metadata": {
      "needs_background": "light"
     },
     "output_type": "display_data"
    }
   ],
   "source": [
    "import numpy as np\n",
    "import pandas as pd\n",
    "import matplotlib.pyplot as plt\n",
    "import math\n",
    "import random\n",
    "\n",
    "\n",
    "a_def = 40\n",
    "\n",
    "def minmax(x):\n",
    "    return (x - x.min()) / (x.max() - x.min())\n",
    "def norm(x):\n",
    "    return (x - x.mean()) / x.std()\n",
    "  \n",
    "def standard(xa = x_test, m = 0.6, s = 3, note_min = 0.1, a = a_def, b = 20, cut = False):\n",
    "    moy_ini = xa.mean() * b / a\n",
    "    \n",
    "    x = norm(xa)\n",
    "    xb = b * m + x * b * (1 - m) / x.max()\n",
    "\n",
    "    x_standard = xb\n",
    "    \n",
    "    print('\\n Moyenne: ', x_standard.mean(), '\\n Moyenne initiale: ', moy_ini)\n",
    "    return x_standard\n",
    "\n",
    "\n",
    "def get(n): return pd.Series([i / n for i in range(n)])\n",
    "\n",
    "x_tete = 3 * get(4) + 17\n",
    "x_corps = 5 * get(10) + 8\n",
    "x_queue = 4 * get(6) + 3.5\n",
    "supp = get(1) + 20\n",
    "\n",
    "#x_test = a_def * pd.concat([x_tete, x_queue, x_corps]) / 20\n",
    "#x_test = get(60) * 20\n",
    "x_test = pd.Series([random.randrange(40) for i in range (35)])\n",
    "\n",
    "print(x_test.describe())\n",
    "\n",
    "\n",
    "x_stand = standard()\n",
    "x_list = x_test.tolist()\n",
    "x_list_standard = x_stand.tolist()\n",
    "x_list.sort()\n",
    "x_list_standard.sort()\n",
    "#print('\\n\\nlistes: \\n', len(x_list), x_list, '\\n\\n LStand\\n', len(x_list_standard), x_list_standard)\n",
    "\n",
    "\n",
    "data = [(x_list[i], x_list_standard[i]) for i in range(len(x_list))]\n",
    "\n",
    "#print('\\n\\n', len(data[0]), data[0], '\\n\\n', data[1])\n",
    "Train = pd.DataFrame(data)\n",
    "\n",
    "#Train.head()\n",
    "Train.plot(kind=\"scatter\", x=0, y=1) \n",
    "plt.plot((0,a_def), (0, 20))\n",
    "\n",
    "\n",
    "#plt.plot(x_test, x_standard2)\n",
    "    "
   ]
  },
  {
   "cell_type": "code",
   "execution_count": null,
   "id": "1798d23e",
   "metadata": {},
   "outputs": [],
   "source": []
  }
 ],
 "metadata": {
  "kernelspec": {
   "display_name": "Python 3 (ipykernel)",
   "language": "python",
   "name": "python3"
  },
  "language_info": {
   "codemirror_mode": {
    "name": "ipython",
    "version": 3
   },
   "file_extension": ".py",
   "mimetype": "text/x-python",
   "name": "python",
   "nbconvert_exporter": "python",
   "pygments_lexer": "ipython3",
   "version": "3.8.9"
  }
 },
 "nbformat": 4,
 "nbformat_minor": 5
}
